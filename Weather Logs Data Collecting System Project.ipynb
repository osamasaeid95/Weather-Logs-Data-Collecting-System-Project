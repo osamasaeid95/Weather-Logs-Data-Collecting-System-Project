{
 "cells": [
  {
   "cell_type": "code",
   "execution_count": 5,
   "metadata": {},
   "outputs": [],
   "source": [
    "import csv\n",
    "import requests\n",
    "import pandas as pd\n",
    "from bs4 import BeautifulSoup\n",
    "from datetime import datetime\n",
    "import time"
   ]
  },
  {
   "cell_type": "code",
   "execution_count": null,
   "metadata": {},
   "outputs": [],
   "source": [
    " with open('messurments.csv', 'w') as f:\n",
    "    fnames = ['temp', 'wind', 'humidity', 'visibility', 'presure', 'time_now']\n",
    "    writer = csv.DictWriter(f, fieldnames=fnames)\n",
    "    writer.writeheader()\n",
    "    for i in range(10):\n",
    "        url = 'https://eg.freemeteo.com/weather/cairo/current-weather/location/?gid=360630&language=english&country=egypt'\n",
    "        response = requests.get(url)\n",
    "        soup = BeautifulSoup(response.text, 'html.parser')\n",
    "        temp = soup.find('div', attrs={'class': 'temp'}).get_text()\n",
    "        temp = float(temp.split('°')[0])\n",
    "        wind = float(soup.find('span', attrs={'class': 'white'}).find('b').get_text().strip())\n",
    "        stats = soup.find('div', attrs={'class': 'stats'}).get_text()\n",
    "        for element in stats.split(' '):\n",
    "            if element.endswith('%'):\n",
    "                humidity = float(element.split('%')[0])\n",
    "            elif element.endswith('m'):\n",
    "                visibility = float(element.split('m')[0])\n",
    "            elif element.endswith('mb'):\n",
    "                presure = float(element.split('mb')[0])\n",
    "        now = datetime.now()\n",
    "        time_now = now.strftime(\"%d/%m/%Y %H:%M:%S\")\n",
    "\n",
    "        # Write to CSV file\n",
    "        ############################################################################\n",
    "        output = {'temp': temp, 'wind': wind, 'humidity': humidity, 'visibility': visibility, 'presure': presure, 'time_now': time_now}\n",
    "        writer.writerow(output)\n",
    "        ############################################################################\n",
    "        \n",
    "        time.sleep(60)   # 60 seconds (1 minute)"
   ]
  },
  {
   "cell_type": "code",
   "execution_count": null,
   "metadata": {},
   "outputs": [],
   "source": [
    "needed_data = pd.read_csv('messurments_log.csv')\n",
    "needed_data"
   ]
  },
  {
   "cell_type": "code",
   "execution_count": null,
   "metadata": {},
   "outputs": [],
   "source": []
  },
  {
   "cell_type": "code",
   "execution_count": null,
   "metadata": {},
   "outputs": [],
   "source": []
  },
  {
   "cell_type": "code",
   "execution_count": null,
   "metadata": {},
   "outputs": [],
   "source": []
  }
 ],
 "metadata": {
  "interpreter": {
   "hash": "5b114127aa6ac952cd4648e160b0a8482bcd02781693d19627ba90f34a5bcff7"
  },
  "kernelspec": {
   "display_name": "Python 3.9.10 64-bit (windows store)",
   "language": "python",
   "name": "python3"
  },
  "language_info": {
   "codemirror_mode": {
    "name": "ipython",
    "version": 3
   },
   "file_extension": ".py",
   "mimetype": "text/x-python",
   "name": "python",
   "nbconvert_exporter": "python",
   "pygments_lexer": "ipython3",
   "version": "3.9.10"
  },
  "orig_nbformat": 4
 },
 "nbformat": 4,
 "nbformat_minor": 2
}
